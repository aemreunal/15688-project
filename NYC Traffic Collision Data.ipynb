{
 "cells": [
  {
   "cell_type": "markdown",
   "metadata": {},
   "source": [
    "# <center>Analyzing NYC Traffic Collision Data</center>\n",
    "## <center>A 15-688 Project by:</center><center><br/> Ahmet Emre Unal (ahmetemu)<br/><br/>Marco Peyrot (mpeyrotc)</center>"
   ]
  },
  {
   "cell_type": "code",
   "execution_count": null,
   "metadata": {
    "collapsed": true
   },
   "outputs": [],
   "source": [
    "import pandas as pd\n",
    "import numpy as np\n",
    "import scipy\n",
    "import collections\n",
    "\n",
    "raw_data_file_name = 'NYPD_Motor_Vehicle_Collisions.csv'"
   ]
  },
  {
   "cell_type": "code",
   "execution_count": 10,
   "metadata": {
    "collapsed": false
   },
   "outputs": [
    {
     "name": "stdout",
     "output_type": "stream",
     "text": [
      "         index       DATE_COMBINED        BOROUGH  ZIP CODE   LATITUDE  \\\n",
      "606123  907038 2012-07-01 04:44:00      MANHATTAN     10001  40.746659   \n",
      "606124  907040 2012-07-01 09:15:00       BROOKLYN     11233  40.675380   \n",
      "606125  907041 2012-07-01 09:15:00         QUEENS     11421  40.696308   \n",
      "606126  907042 2012-07-01 09:15:00         QUEENS     11429  40.711860   \n",
      "606127  907043 2012-07-01 09:15:00  STATEN ISLAND     10310  40.634748   \n",
      "\n",
      "        LONGITUDE    ON STREET NAME CROSS STREET NAME  \\\n",
      "606123 -73.990068          6 AVENUE    WEST 29 STREET   \n",
      "606124 -73.908196    PACIFIC STREET   EASTERN PARKWAY   \n",
      "606125 -73.851549         94 STREET           85 ROAD   \n",
      "606126 -73.735538        219 STREET        104 AVENUE   \n",
      "606127 -74.112253  CASTLETON AVENUE     BEMENT AVENUE   \n",
      "\n",
      "        NUMBER OF PERSONS INJURED  NUMBER OF PERSONS KILLED  \\\n",
      "606123                          1                         0   \n",
      "606124                          0                         0   \n",
      "606125                          0                         0   \n",
      "606126                          0                         0   \n",
      "606127                          0                         0   \n",
      "\n",
      "        NUMBER OF PEDESTRIANS INJURED  NUMBER OF PEDESTRIANS KILLED  \\\n",
      "606123                              1                             0   \n",
      "606124                              0                             0   \n",
      "606125                              0                             0   \n",
      "606126                              0                             0   \n",
      "606127                              0                             0   \n",
      "\n",
      "        NUMBER OF CYCLIST INJURED  NUMBER OF CYCLIST KILLED  \\\n",
      "606123                          0                         0   \n",
      "606124                          0                         0   \n",
      "606125                          0                         0   \n",
      "606126                          0                         0   \n",
      "606127                          0                         0   \n",
      "\n",
      "        NUMBER OF MOTORIST INJURED  NUMBER OF MOTORIST KILLED  \\\n",
      "606123                           0                          0   \n",
      "606124                           0                          0   \n",
      "606125                           0                          0   \n",
      "606126                           0                          0   \n",
      "606127                           0                          0   \n",
      "\n",
      "                  VEHICLE TYPE CODE 1  \n",
      "606123  SPORT UTILITY / STATION WAGON  \n",
      "606124  SPORT UTILITY / STATION WAGON  \n",
      "606125              PASSENGER VEHICLE  \n",
      "606126              PASSENGER VEHICLE  \n",
      "606127              PASSENGER VEHICLE  \n",
      "index                                     int64\n",
      "DATE_COMBINED                    datetime64[ns]\n",
      "BOROUGH                                  object\n",
      "ZIP CODE                                  int64\n",
      "LATITUDE                                float64\n",
      "LONGITUDE                               float64\n",
      "ON STREET NAME                           object\n",
      "CROSS STREET NAME                        object\n",
      "NUMBER OF PERSONS INJURED                 int64\n",
      "NUMBER OF PERSONS KILLED                  int64\n",
      "NUMBER OF PEDESTRIANS INJURED             int64\n",
      "NUMBER OF PEDESTRIANS KILLED              int64\n",
      "NUMBER OF CYCLIST INJURED                 int64\n",
      "NUMBER OF CYCLIST KILLED                  int64\n",
      "NUMBER OF MOTORIST INJURED                int64\n",
      "NUMBER OF MOTORIST KILLED                 int64\n",
      "VEHICLE TYPE CODE 1                      object\n",
      "dtype: object\n",
      "606128\n"
     ]
    }
   ],
   "source": [
    "def load_data(file_name):\n",
    "    collision = pd.read_csv(file_name, \n",
    "                            na_filter=False, \n",
    "                            parse_dates={'DATE_COMBINED' : ['DATE', 'TIME']}, \n",
    "                            infer_datetime_format=True)\n",
    "    \n",
    "    # Remove rows that don't have the necessary data\n",
    "    collision = collision[collision['LOCATION'] != '']\n",
    "    collision = collision[collision['LATITUDE'] != '']\n",
    "    collision = collision[collision['LONGITUDE'] != '']\n",
    "    collision = collision[collision['BOROUGH'] != '']\n",
    "    collision = collision[collision['ZIP CODE'] != '']\n",
    "    collision = collision[collision['ON STREET NAME'] != '']\n",
    "    collision = collision[collision['CROSS STREET NAME'] != '']\n",
    "    collision = collision[collision['VEHICLE TYPE CODE 1'] != '']\n",
    "    collision = collision[collision['VEHICLE TYPE CODE 1'] != 'UNKNOWN']\n",
    "\n",
    "    # Drop unneeded columns\n",
    "    columns_to_drop = ['CONTRIBUTING FACTOR VEHICLE 1', 'CONTRIBUTING FACTOR VEHICLE 2', \n",
    "                       'CONTRIBUTING FACTOR VEHICLE 3', 'CONTRIBUTING FACTOR VEHICLE 4', \n",
    "                       'CONTRIBUTING FACTOR VEHICLE 5', 'LOCATION', 'UNIQUE KEY',\n",
    "                       'OFF STREET NAME', 'VEHICLE TYPE CODE 2', 'VEHICLE TYPE CODE 3',\n",
    "                       'VEHICLE TYPE CODE 4', 'VEHICLE TYPE CODE 5']\n",
    "    for column in columns_to_drop:\n",
    "        collision = collision.drop(column, axis=1)\n",
    "        \n",
    "    collision['ZIP CODE'] = collision['ZIP CODE'].astype(int)\n",
    "    collision['LATITUDE'] = collision['LATITUDE'].astype(float)\n",
    "    collision['LONGITUDE'] = collision['LONGITUDE'].astype(float)\n",
    "        \n",
    "    collision = collision.reset_index()\n",
    "    \n",
    "    return collision\n",
    "\n",
    "# Load the collision data\n",
    "collision = load_data(raw_data_file_name)\n",
    "    \n",
    "print collision.tail()\n",
    "print collision.dtypes\n",
    "print len(collision)"
   ]
  },
  {
   "cell_type": "code",
   "execution_count": null,
   "metadata": {
    "collapsed": true
   },
   "outputs": [],
   "source": [
    "print \"hello\""
   ]
  }
 ],
 "metadata": {
  "kernelspec": {
   "display_name": "Python 2",
   "language": "python",
   "name": "python2"
  },
  "language_info": {
   "codemirror_mode": {
    "name": "ipython",
    "version": 2
   },
   "file_extension": ".py",
   "mimetype": "text/x-python",
   "name": "python",
   "nbconvert_exporter": "python",
   "pygments_lexer": "ipython2",
   "version": "2.7.12"
  }
 },
 "nbformat": 4,
 "nbformat_minor": 1
}
